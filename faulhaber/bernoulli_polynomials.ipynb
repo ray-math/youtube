{
 "cells": [
  {
   "cell_type": "code",
   "execution_count": 1,
   "metadata": {},
   "outputs": [
    {
     "name": "stderr",
     "output_type": "stream",
     "text": [
      "Matplotlib is building the font cache; this may take a moment.\n"
     ]
    },
    {
     "data": {
      "application/vnd.jupyter.widget-view+json": {
       "model_id": "750a466bf88440779c7966982562671e",
       "version_major": 2,
       "version_minor": 0
      },
      "text/plain": [
       "VBox(children=(HBox(children=(Play(value=0, description='Press play', interval=500, max=15), IntSlider(value=0…"
      ]
     },
     "metadata": {},
     "output_type": "display_data"
    },
    {
     "name": "stderr",
     "output_type": "stream",
     "text": [
      "/var/folders/y3/p76p4mzd26b97f5gc5y02m440000gn/T/ipykernel_43343/2500330645.py:28: MatplotlibDeprecationWarning: The get_cmap function was deprecated in Matplotlib 3.7 and will be removed in 3.11. Use ``matplotlib.colormaps[name]`` or ``matplotlib.colormaps.get_cmap()`` or ``pyplot.get_cmap()`` instead.\n",
      "  colormap = cm.get_cmap('Reds')  # Red color map for even n\n"
     ]
    }
   ],
   "source": [
    "import numpy as np\n",
    "import matplotlib.pyplot as plt\n",
    "from sympy import bernoulli, symbols, lambdify\n",
    "from ipywidgets import IntSlider, Play, VBox, jslink, HBox, Output\n",
    "import matplotlib.cm as cm  # Import colormap\n",
    "\n",
    "# Define x as a symbol\n",
    "x = symbols('x')\n",
    "\n",
    "# Function to generate and plot Bernoulli polynomial\n",
    "def plot_bernoulli_polynomial(n):\n",
    "    # Generate the Bernoulli polynomial B_n(x)\n",
    "    B_n = bernoulli(n, x)\n",
    "    \n",
    "    # Convert the sympy expression to a function that can be evaluated numerically\n",
    "    B_n_func = lambdify(x, B_n, 'numpy')\n",
    "    \n",
    "    # Generate x values and compute the corresponding y values\n",
    "    x_vals = np.linspace(-0.5, 1.5, 400)\n",
    "    B_n_func_vectorized = np.vectorize(B_n_func)\n",
    "    y_vals = B_n_func_vectorized(x_vals)\n",
    "    \n",
    "    # Clear the previous plot\n",
    "    output.clear_output(wait=True)\n",
    "    \n",
    "    # Determine the color based on whether n is even or odd\n",
    "    if n % 2 == 0:\n",
    "        colormap = cm.get_cmap('Reds')  # Red color map for even n\n",
    "    else:\n",
    "        colormap = cm.get_cmap('Blues')  # Blue color map for odd n\n",
    "    \n",
    "    # Adjust color intensity: use only a mid-range of the colormap\n",
    "    # This keeps the colors from being too light or too dark\n",
    "    color_intensity = 0.3 + 0.4 * (n / 15)  # This maps n from 0.3 to 0.7\n",
    "    color = colormap(color_intensity)\n",
    "\n",
    "    # Plot the polynomial\n",
    "    with output:\n",
    "        plt.figure(figsize=(10, 6))  # Increase figure size for better visibility\n",
    "        plt.plot(x_vals, y_vals, label=f'$B_{{{n}}}(x)$', color=color, linewidth=2.5)  # Use the color determined by the colormap\n",
    "        plt.title(f'Bernoulli Polynomial $B_{{{n}}}(x)$', fontsize=16)\n",
    "        plt.xlabel('x', fontsize=14, fontweight='bold')\n",
    "        plt.ylabel(f'$B_{{{n}}}(x)$', fontsize=14, fontweight='bold')\n",
    "        plt.xlim(-0.5, 1.5)\n",
    "        plt.ylim(-3, 3)\n",
    "        \n",
    "        # Add grid with more lines\n",
    "        plt.grid(True, which='both', linestyle='--', linewidth=0.5)\n",
    "        plt.minorticks_on()\n",
    "        \n",
    "        # Make x=0 and y=0 axes thicker\n",
    "        plt.axhline(0, color='black', linewidth=2)  # y=0 line\n",
    "        plt.axvline(0, color='black', linewidth=2)  # x=0 line\n",
    "        \n",
    "        plt.legend(fontsize=14)\n",
    "        plt.show()\n",
    "\n",
    "# Create slider and play button\n",
    "slider = IntSlider(min=0, max=15, step=1, value=0)\n",
    "play = Play(\n",
    "    value=0,\n",
    "    min=0,\n",
    "    max=15,\n",
    "    step=1,\n",
    "    interval=500,  # milliseconds between updates\n",
    "    description=\"Press play\",\n",
    "    disabled=False\n",
    ")\n",
    "\n",
    "# Link the play button with the slider\n",
    "jslink((play, 'value'), (slider, 'value'))\n",
    "\n",
    "# Create an output widget\n",
    "output = Output()\n",
    "\n",
    "# Display the slider and play button together with the output\n",
    "display(VBox([HBox([play, slider]), output]))\n",
    "\n",
    "# Observe slider value changes and update the plot\n",
    "slider.observe(lambda change: plot_bernoulli_polynomial(change['new']), names='value')\n",
    "\n",
    "# Initial plot\n",
    "plot_bernoulli_polynomial(slider.value)"
   ]
  }
 ],
 "metadata": {
  "kernelspec": {
   "display_name": "Python 3",
   "language": "python",
   "name": "python3"
  },
  "language_info": {
   "codemirror_mode": {
    "name": "ipython",
    "version": 3
   },
   "file_extension": ".py",
   "mimetype": "text/x-python",
   "name": "python",
   "nbconvert_exporter": "python",
   "pygments_lexer": "ipython3",
   "version": "3.12.0"
  }
 },
 "nbformat": 4,
 "nbformat_minor": 2
}
